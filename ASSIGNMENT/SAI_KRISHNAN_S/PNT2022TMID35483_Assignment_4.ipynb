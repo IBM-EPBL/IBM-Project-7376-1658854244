{
 "cells": [
  {
   "cell_type": "markdown",
   "id": "0cd6861e",
   "metadata": {},
   "source": [
    "## 1) import Libraries"
   ]
  },
  {
   "cell_type": "code",
   "execution_count": 2,
   "id": "f1d781f9",
   "metadata": {},
   "outputs": [],
   "source": [
    "import pandas as pd\n",
    "import numpy as np\n",
    "import seaborn as sns \n",
    "import matplotlib.pyplot as plt"
   ]
  },
  {
   "cell_type": "markdown",
   "id": "415394b9",
   "metadata": {},
   "source": [
    "## 2) Load the dataset"
   ]
  },
  {
   "cell_type": "code",
   "execution_count": 3,
   "id": "959dc743",
   "metadata": {},
   "outputs": [],
   "source": [
    "df=pd.read_csv(\"F:\\SEM 7\\IBM Project\\Mall_Customers.csv\")"
   ]
  },
  {
   "cell_type": "code",
   "execution_count": 4,
   "id": "1a376a1f",
   "metadata": {},
   "outputs": [
    {
     "data": {
      "text/html": [
       "<div>\n",
       "<style scoped>\n",
       "    .dataframe tbody tr th:only-of-type {\n",
       "        vertical-align: middle;\n",
       "    }\n",
       "\n",
       "    .dataframe tbody tr th {\n",
       "        vertical-align: top;\n",
       "    }\n",
       "\n",
       "    .dataframe thead th {\n",
       "        text-align: right;\n",
       "    }\n",
       "</style>\n",
       "<table border=\"1\" class=\"dataframe\">\n",
       "  <thead>\n",
       "    <tr style=\"text-align: right;\">\n",
       "      <th></th>\n",
       "      <th>CustomerID</th>\n",
       "      <th>Gender</th>\n",
       "      <th>Age</th>\n",
       "      <th>Annual Income (k$)</th>\n",
       "      <th>Spending Score (1-100)</th>\n",
       "    </tr>\n",
       "  </thead>\n",
       "  <tbody>\n",
       "    <tr>\n",
       "      <th>0</th>\n",
       "      <td>1</td>\n",
       "      <td>Male</td>\n",
       "      <td>19</td>\n",
       "      <td>15</td>\n",
       "      <td>39</td>\n",
       "    </tr>\n",
       "    <tr>\n",
       "      <th>1</th>\n",
       "      <td>2</td>\n",
       "      <td>Male</td>\n",
       "      <td>21</td>\n",
       "      <td>15</td>\n",
       "      <td>81</td>\n",
       "    </tr>\n",
       "    <tr>\n",
       "      <th>2</th>\n",
       "      <td>3</td>\n",
       "      <td>Female</td>\n",
       "      <td>20</td>\n",
       "      <td>16</td>\n",
       "      <td>6</td>\n",
       "    </tr>\n",
       "    <tr>\n",
       "      <th>3</th>\n",
       "      <td>4</td>\n",
       "      <td>Female</td>\n",
       "      <td>23</td>\n",
       "      <td>16</td>\n",
       "      <td>77</td>\n",
       "    </tr>\n",
       "    <tr>\n",
       "      <th>4</th>\n",
       "      <td>5</td>\n",
       "      <td>Female</td>\n",
       "      <td>31</td>\n",
       "      <td>17</td>\n",
       "      <td>40</td>\n",
       "    </tr>\n",
       "  </tbody>\n",
       "</table>\n",
       "</div>"
      ],
      "text/plain": [
       "   CustomerID  Gender  Age  Annual Income (k$)  Spending Score (1-100)\n",
       "0           1    Male   19                  15                      39\n",
       "1           2    Male   21                  15                      81\n",
       "2           3  Female   20                  16                       6\n",
       "3           4  Female   23                  16                      77\n",
       "4           5  Female   31                  17                      40"
      ]
     },
     "execution_count": 4,
     "metadata": {},
     "output_type": "execute_result"
    }
   ],
   "source": [
    "df.head()"
   ]
  },
  {
   "cell_type": "code",
   "execution_count": 5,
   "id": "6f54d961",
   "metadata": {},
   "outputs": [
    {
     "name": "stdout",
     "output_type": "stream",
     "text": [
      "<class 'pandas.core.frame.DataFrame'>\n",
      "RangeIndex: 200 entries, 0 to 199\n",
      "Data columns (total 5 columns):\n",
      " #   Column                  Non-Null Count  Dtype \n",
      "---  ------                  --------------  ----- \n",
      " 0   CustomerID              200 non-null    int64 \n",
      " 1   Gender                  200 non-null    object\n",
      " 2   Age                     200 non-null    int64 \n",
      " 3   Annual Income (k$)      200 non-null    int64 \n",
      " 4   Spending Score (1-100)  200 non-null    int64 \n",
      "dtypes: int64(4), object(1)\n",
      "memory usage: 7.9+ KB\n"
     ]
    }
   ],
   "source": [
    "df.info()"
   ]
  },
  {
   "cell_type": "markdown",
   "id": "d8c2321a",
   "metadata": {},
   "source": [
    "## 3) Visualizations"
   ]
  },
  {
   "cell_type": "code",
   "execution_count": 6,
   "id": "c3f8fd75",
   "metadata": {},
   "outputs": [
    {
     "name": "stderr",
     "output_type": "stream",
     "text": [
      "C:\\Users\\Admin\\anaconda3\\lib\\site-packages\\seaborn\\distributions.py:2619: FutureWarning: `distplot` is a deprecated function and will be removed in a future version. Please adapt your code to use either `displot` (a figure-level function with similar flexibility) or `histplot` (an axes-level function for histograms).\n",
      "  warnings.warn(msg, FutureWarning)\n"
     ]
    },
    {
     "data": {
      "text/plain": [
       "<AxesSubplot:xlabel='Age', ylabel='Density'>"
      ]
     },
     "execution_count": 6,
     "metadata": {},
     "output_type": "execute_result"
    },
    {
     "data": {
      "image/png": "[encoded data removed]",
      "text/plain": [
       "<Figure size 432x288 with 1 Axes>"
      ]
     },
     "metadata": {
      "needs_background": "light"
     },
     "output_type": "display_data"
    }
   ],
   "source": [
    "sns.distplot(df.Age) "
   ]
  },
  {
   "cell_type": "code",
   "execution_count": 7,
   "id": "8776697f",
   "metadata": {},
   "outputs": [
    {
     "data": {
      "image/png": "[encoded data removed]",
      "text/plain": [
       "<Figure size 432x288 with 1 Axes>"
      ]
     },
     "metadata": {},
     "output_type": "display_data"
    }
   ],
   "source": [
    "#pie chart\n",
    "data1=df.groupby(\"Gender\",axis=0)\n",
    "plt.pie(data1.count()[\"Age\"], labels=data1.indices)\n",
    "plt.show()"
   ]
  },
  {
   "cell_type": "code",
   "execution_count": 8,
   "id": "f03feb9c",
   "metadata": {},
   "outputs": [
    {
     "data": {
      "image/png": "[encoded data removed]",
      "text/plain": [
       "<Figure size 432x288 with 1 Axes>"
      ]
     },
     "metadata": {
      "needs_background": "light"
     },
     "output_type": "display_data"
    }
   ],
   "source": [
    "#boxplot\n",
    "plt.boxplot(df[\"Age\"])\n",
    "plt.show()"
   ]
  },
  {
   "cell_type": "code",
   "execution_count": 9,
   "id": "b27a6185",
   "metadata": {},
   "outputs": [
    {
     "data": {
      "image/png": "[encoded data removed]",
      "text/plain": [
       "<Figure size 432x288 with 1 Axes>"
      ]
     },
     "metadata": {
      "needs_background": "light"
     },
     "output_type": "display_data"
    }
   ],
   "source": [
    "#countplot\n",
    "sns.countplot(x=df[\"Annual Income (k$)\"])\n",
    "plt.show()"
   ]
  },
  {
   "cell_type": "code",
   "execution_count": 10,
   "id": "917fd26a",
   "metadata": {},
   "outputs": [
    {
     "data": {
      "image/png": "[encoded data removed]",
      "text/plain": [
       "<Figure size 432x288 with 1 Axes>"
      ]
     },
     "metadata": {
      "needs_background": "light"
     },
     "output_type": "display_data"
    }
   ],
   "source": [
    "#countplot\n",
    "sns.countplot(x=df[\"Age\"])\n",
    "plt.show()"
   ]
  },
  {
   "cell_type": "code",
   "execution_count": 11,
   "id": "76a4b627",
   "metadata": {},
   "outputs": [
    {
     "data": {
      "image/png": "[encoded data removed]",
      "text/plain": [
       "<Figure size 432x288 with 1 Axes>"
      ]
     },
     "metadata": {
      "needs_background": "light"
     },
     "output_type": "display_data"
    }
   ],
   "source": [
    "#histplot\n",
    "sns.histplot(df[\"Age\"])\n",
    "plt.show()"
   ]
  },
  {
   "cell_type": "code",
   "execution_count": 12,
   "id": "8c09f933",
   "metadata": {},
   "outputs": [
    {
     "data": {
      "image/png": "[encoded data removed]",
      "text/plain": [
       "<Figure size 432x288 with 1 Axes>"
      ]
     },
     "metadata": {
      "needs_background": "light"
     },
     "output_type": "display_data"
    }
   ],
   "source": [
    "#histplot\n",
    "sns.histplot(df[\"Spending Score (1-100)\"])\n",
    "plt.show()"
   ]
  },
  {
   "cell_type": "markdown",
   "id": "481474d2",
   "metadata": {},
   "source": [
    "## Bivariate analysis"
   ]
  },
  {
   "cell_type": "code",
   "execution_count": 13,
   "id": "44d2f3bf",
   "metadata": {},
   "outputs": [
    {
     "name": "stderr",
     "output_type": "stream",
     "text": [
      "C:\\Users\\Admin\\anaconda3\\lib\\site-packages\\seaborn\\_decorators.py:36: FutureWarning: Pass the following variables as keyword args: x, y. From version 0.12, the only valid positional argument will be `data`, and passing other arguments without an explicit keyword will result in an error or misinterpretation.\n",
      "  warnings.warn(\n"
     ]
    },
    {
     "data": {
      "text/plain": [
       "<AxesSubplot:xlabel='Age', ylabel='CustomerID'>"
      ]
     },
     "execution_count": 13,
     "metadata": {},
     "output_type": "execute_result"
    },
    {
     "data": {
      "image/png": "[encoded data removed]",
      "text/plain": [
       "<Figure size 432x288 with 1 Axes>"
      ]
     },
     "metadata": {
      "needs_background": "light"
     },
     "output_type": "display_data"
    }
   ],
   "source": [
    "sns.lineplot(df.Age,df.CustomerID)"
   ]
  },
  {
   "cell_type": "code",
   "execution_count": 14,
   "id": "b544a0bb",
   "metadata": {},
   "outputs": [
    {
     "data": {
      "image/png": "[encoded data removed]",
      "text/plain": [
       "<Figure size 720x720 with 20 Axes>"
      ]
     },
     "metadata": {
      "needs_background": "light"
     },
     "output_type": "display_data"
    }
   ],
   "source": [
    "#pairplot\n",
    "sns.pairplot(df)\n",
    "plt.show()"
   ]
  },
  {
   "cell_type": "code",
   "execution_count": 15,
   "id": "ceab0489",
   "metadata": {},
   "outputs": [
    {
     "data": {
      "image/png": "[encoded data removed]",
      "text/plain": [
       "<Figure size 432x288 with 1 Axes>"
      ]
     },
     "metadata": {
      "needs_background": "light"
     },
     "output_type": "display_data"
    }
   ],
   "source": [
    "#scatterplot for Age and Annual Income (k$)\n",
    "sns.scatterplot(x=df.iloc[:100,:][\"Age\"],y=df.iloc[:100,:][\"Annual Income (k$)\"])\n",
    "plt.show()"
   ]
  },
  {
   "cell_type": "code",
   "execution_count": 16,
   "id": "1802693a",
   "metadata": {},
   "outputs": [
    {
     "data": {
      "image/png": "[encoded data removed]",
      "text/plain": [
       "<Figure size 432x288 with 1 Axes>"
      ]
     },
     "metadata": {
      "needs_background": "light"
     },
     "output_type": "display_data"
    }
   ],
   "source": [
    "#scatterplot for Age and Spending Score (1-100)\n",
    "sns.scatterplot(x=df.iloc[:100,:][\"Age\"],y=df.iloc[:100,:][\"Spending Score (1-100)\"])\n",
    "plt.show()"
   ]
  },
  {
   "cell_type": "markdown",
   "id": "dabeba9e",
   "metadata": {},
   "source": [
    "## Multivariate analysis"
   ]
  },
  {
   "cell_type": "code",
   "execution_count": 17,
   "id": "0b9be7d6",
   "metadata": {},
   "outputs": [
    {
     "name": "stderr",
     "output_type": "stream",
     "text": [
      "C:\\Users\\Admin\\anaconda3\\lib\\site-packages\\seaborn\\_decorators.py:36: FutureWarning: Pass the following variables as keyword args: x, y, hue. From version 0.12, the only valid positional argument will be `data`, and passing other arguments without an explicit keyword will result in an error or misinterpretation.\n",
      "  warnings.warn(\n"
     ]
    },
    {
     "data": {
      "text/plain": [
       "<AxesSubplot:xlabel='Age', ylabel='CustomerID'>"
      ]
     },
     "execution_count": 17,
     "metadata": {},
     "output_type": "execute_result"
    },
    {
     "data": {
      "image/png": "[encoded data removed]",
      "text/plain": [
       "<Figure size 432x288 with 1 Axes>"
      ]
     },
     "metadata": {
      "needs_background": "light"
     },
     "output_type": "display_data"
    }
   ],
   "source": [
    "sns.lineplot(df.Age,df.CustomerID,df.Age)"
   ]
  },
  {
   "cell_type": "code",
   "execution_count": 18,
   "id": "522650c0",
   "metadata": {},
   "outputs": [
    {
     "data": {
      "image/png": "[encoded data removed]",
      "text/plain": [
       "<Figure size 432x288 with 1 Axes>"
      ]
     },
     "metadata": {
      "needs_background": "light"
     },
     "output_type": "display_data"
    }
   ],
   "source": [
    "#scatterplot forAge, Annual Income (k$) and Spending Score (1=100)\n",
    "sns.scatterplot(x=df.iloc[:200,:][\"Age\"],y=df.iloc[:200,:][\"Annual Income (k$)\"],hue=df.iloc[:200,:][\"Spending Score (1-100)\"])\n",
    "plt.show()"
   ]
  },
  {
   "cell_type": "markdown",
   "id": "af5ed83f",
   "metadata": {},
   "source": [
    "## 4) Descriptive Statistics"
   ]
  },
  {
   "cell_type": "code",
   "execution_count": 19,
   "id": "e3eeb54b",
   "metadata": {},
   "outputs": [
    {
     "data": {
      "text/html": [
       "<div>\n",
       "<style scoped>\n",
       "    .dataframe tbody tr th:only-of-type {\n",
       "        vertical-align: middle;\n",
       "    }\n",
       "\n",
       "    .dataframe tbody tr th {\n",
       "        vertical-align: top;\n",
       "    }\n",
       "\n",
       "    .dataframe thead th {\n",
       "        text-align: right;\n",
       "    }\n",
       "</style>\n",
       "<table border=\"1\" class=\"dataframe\">\n",
       "  <thead>\n",
       "    <tr style=\"text-align: right;\">\n",
       "      <th></th>\n",
       "      <th>CustomerID</th>\n",
       "      <th>Age</th>\n",
       "      <th>Annual Income (k$)</th>\n",
       "      <th>Spending Score (1-100)</th>\n",
       "    </tr>\n",
       "  </thead>\n",
       "  <tbody>\n",
       "    <tr>\n",
       "      <th>count</th>\n",
       "      <td>200.000000</td>\n",
       "      <td>200.000000</td>\n",
       "      <td>200.000000</td>\n",
       "      <td>200.000000</td>\n",
       "    </tr>\n",
       "    <tr>\n",
       "      <th>mean</th>\n",
       "      <td>100.500000</td>\n",
       "      <td>38.850000</td>\n",
       "      <td>60.560000</td>\n",
       "      <td>50.200000</td>\n",
       "    </tr>\n",
       "    <tr>\n",
       "      <th>std</th>\n",
       "      <td>57.879185</td>\n",
       "      <td>13.969007</td>\n",
       "      <td>26.264721</td>\n",
       "      <td>25.823522</td>\n",
       "    </tr>\n",
       "    <tr>\n",
       "      <th>min</th>\n",
       "      <td>1.000000</td>\n",
       "      <td>18.000000</td>\n",
       "      <td>15.000000</td>\n",
       "      <td>1.000000</td>\n",
       "    </tr>\n",
       "    <tr>\n",
       "      <th>25%</th>\n",
       "      <td>50.750000</td>\n",
       "      <td>28.750000</td>\n",
       "      <td>41.500000</td>\n",
       "      <td>34.750000</td>\n",
       "    </tr>\n",
       "    <tr>\n",
       "      <th>50%</th>\n",
       "      <td>100.500000</td>\n",
       "      <td>36.000000</td>\n",
       "      <td>61.500000</td>\n",
       "      <td>50.000000</td>\n",
       "    </tr>\n",
       "    <tr>\n",
       "      <th>75%</th>\n",
       "      <td>150.250000</td>\n",
       "      <td>49.000000</td>\n",
       "      <td>78.000000</td>\n",
       "      <td>73.000000</td>\n",
       "    </tr>\n",
       "    <tr>\n",
       "      <th>max</th>\n",
       "      <td>200.000000</td>\n",
       "      <td>70.000000</td>\n",
       "      <td>137.000000</td>\n",
       "      <td>99.000000</td>\n",
       "    </tr>\n",
       "  </tbody>\n",
       "</table>\n",
       "</div>"
      ],
      "text/plain": [
       "       CustomerID         Age  Annual Income (k$)  Spending Score (1-100)\n",
       "count  200.000000  200.000000          200.000000              200.000000\n",
       "mean   100.500000   38.850000           60.560000               50.200000\n",
       "std     57.879185   13.969007           26.264721               25.823522\n",
       "min      1.000000   18.000000           15.000000                1.000000\n",
       "25%     50.750000   28.750000           41.500000               34.750000\n",
       "50%    100.500000   36.000000           61.500000               50.000000\n",
       "75%    150.250000   49.000000           78.000000               73.000000\n",
       "max    200.000000   70.000000          137.000000               99.000000"
      ]
     },
     "execution_count": 19,
     "metadata": {},
     "output_type": "execute_result"
    }
   ],
   "source": [
    "df.describe()"
   ]
  },
  {
   "cell_type": "code",
   "execution_count": 20,
   "id": "0678fba8",
   "metadata": {},
   "outputs": [
    {
     "name": "stdout",
     "output_type": "stream",
     "text": [
      "<class 'pandas.core.frame.DataFrame'>\n",
      "RangeIndex: 200 entries, 0 to 199\n",
      "Data columns (total 5 columns):\n",
      " #   Column                  Non-Null Count  Dtype \n",
      "---  ------                  --------------  ----- \n",
      " 0   CustomerID              200 non-null    int64 \n",
      " 1   Gender                  200 non-null    object\n",
      " 2   Age                     200 non-null    int64 \n",
      " 3   Annual Income (k$)      200 non-null    int64 \n",
      " 4   Spending Score (1-100)  200 non-null    int64 \n",
      "dtypes: int64(4), object(1)\n",
      "memory usage: 7.9+ KB\n"
     ]
    }
   ],
   "source": [
    "df.info()"
   ]
  },
  {
   "cell_type": "markdown",
   "id": "2dbb2944",
   "metadata": {},
   "source": [
    "## 5) Check for missing values"
   ]
  },
  {
   "cell_type": "code",
   "execution_count": 21,
   "id": "bcf951cc",
   "metadata": {},
   "outputs": [
    {
     "data": {
      "text/plain": [
       "CustomerID                0\n",
       "Gender                    0\n",
       "Age                       0\n",
       "Annual Income (k$)        0\n",
       "Spending Score (1-100)    0\n",
       "dtype: int64"
      ]
     },
     "execution_count": 21,
     "metadata": {},
     "output_type": "execute_result"
    }
   ],
   "source": [
    "df.isnull().sum()"
   ]
  },
  {
   "cell_type": "markdown",
   "id": "9c61bc2b",
   "metadata": {},
   "source": [
    "## 6) Check for outliers and replace them"
   ]
  },
  {
   "cell_type": "code",
   "execution_count": 22,
   "id": "cc636390",
   "metadata": {},
   "outputs": [
    {
     "name": "stderr",
     "output_type": "stream",
     "text": [
      "C:\\Users\\Admin\\anaconda3\\lib\\site-packages\\seaborn\\_decorators.py:36: FutureWarning: Pass the following variable as a keyword arg: x. From version 0.12, the only valid positional argument will be `data`, and passing other arguments without an explicit keyword will result in an error or misinterpretation.\n",
      "  warnings.warn(\n"
     ]
    },
    {
     "data": {
      "text/plain": [
       "<AxesSubplot:xlabel='Age'>"
      ]
     },
     "execution_count": 22,
     "metadata": {},
     "output_type": "execute_result"
    },
    {
     "data": {
      "image/png": "[encoded data removed]",
      "text/plain": [
       "<Figure size 432x288 with 1 Axes>"
      ]
     },
     "metadata": {
      "needs_background": "light"
     },
     "output_type": "display_data"
    }
   ],
   "source": [
    "sns.boxplot(df.Age)"
   ]
  },
  {
   "cell_type": "code",
   "execution_count": 23,
   "id": "d4aca4af",
   "metadata": {},
   "outputs": [
    {
     "data": {
      "image/png": "[encoded data removed]",
      "text/plain": [
       "<Figure size 432x288 with 1 Axes>"
      ]
     },
     "metadata": {
      "needs_background": "light"
     },
     "output_type": "display_data"
    }
   ],
   "source": [
    "#find outliers-Spending Score (1-100)\n",
    "plt.boxplot(df[\"Spending Score (1-100)\"])\n",
    "plt.show()"
   ]
  },
  {
   "cell_type": "code",
   "execution_count": 24,
   "id": "0145f879",
   "metadata": {},
   "outputs": [
    {
     "data": {
      "image/png": "[encoded data removed]",
      "text/plain": [
       "<Figure size 432x288 with 1 Axes>"
      ]
     },
     "metadata": {
      "needs_background": "light"
     },
     "output_type": "display_data"
    }
   ],
   "source": [
    "#find outliers-Annual Income (k$)\n",
    "plt.boxplot(df[\"Annual Income (k$)\"])\n",
    "plt.show()"
   ]
  },
  {
   "cell_type": "markdown",
   "id": "7df1b80a",
   "metadata": {},
   "source": [
    "## 7) Check for categorical column and perform encoding"
   ]
  },
  {
   "cell_type": "code",
   "execution_count": 25,
   "id": "791fe596",
   "metadata": {},
   "outputs": [
    {
     "name": "stdout",
     "output_type": "stream",
     "text": [
      "<class 'pandas.core.frame.DataFrame'>\n",
      "RangeIndex: 200 entries, 0 to 199\n",
      "Data columns (total 5 columns):\n",
      " #   Column                  Non-Null Count  Dtype \n",
      "---  ------                  --------------  ----- \n",
      " 0   CustomerID              200 non-null    int64 \n",
      " 1   Gender                  200 non-null    object\n",
      " 2   Age                     200 non-null    int64 \n",
      " 3   Annual Income (k$)      200 non-null    int64 \n",
      " 4   Spending Score (1-100)  200 non-null    int64 \n",
      "dtypes: int64(4), object(1)\n",
      "memory usage: 7.9+ KB\n"
     ]
    }
   ],
   "source": [
    "df.info()"
   ]
  },
  {
   "cell_type": "code",
   "execution_count": 26,
   "id": "9f138590",
   "metadata": {},
   "outputs": [],
   "source": [
    "from sklearn.preprocessing import LabelEncoder"
   ]
  },
  {
   "cell_type": "code",
   "execution_count": 27,
   "id": "546da657",
   "metadata": {},
   "outputs": [],
   "source": [
    "encod=LabelEncoder()\n",
    "df['Spending Score (1-100)']=encod.fit_transform(df['Spending Score (1-100)'])"
   ]
  },
  {
   "cell_type": "code",
   "execution_count": 28,
   "id": "b6af3b56",
   "metadata": {},
   "outputs": [
    {
     "name": "stdout",
     "output_type": "stream",
     "text": [
      "[30 67  4 64 31 63 79  1 59 12 83 13 11 66 28 55 24 82 60  3 68 26 52 25\n",
      " 72  2 77 15 21 62 29 23 54 46 38 33 43 51 45 36 32 41 37 42 47 50 39 40\n",
      " 44 35 48 49 34 76 80  9  7 27 58 73  5  8 78 10 81 61 18 75 17 14 74  0\n",
      " 65 69 22 53 71 57 20 56 70 19  6 16]\n"
     ]
    }
   ],
   "source": [
    "print(df[\"Spending Score (1-100)\"].unique())"
   ]
  },
  {
   "cell_type": "code",
   "execution_count": 29,
   "id": "6391f436",
   "metadata": {},
   "outputs": [
    {
     "data": {
      "text/html": [
       "<div>\n",
       "<style scoped>\n",
       "    .dataframe tbody tr th:only-of-type {\n",
       "        vertical-align: middle;\n",
       "    }\n",
       "\n",
       "    .dataframe tbody tr th {\n",
       "        vertical-align: top;\n",
       "    }\n",
       "\n",
       "    .dataframe thead th {\n",
       "        text-align: right;\n",
       "    }\n",
       "</style>\n",
       "<table border=\"1\" class=\"dataframe\">\n",
       "  <thead>\n",
       "    <tr style=\"text-align: right;\">\n",
       "      <th></th>\n",
       "      <th>CustomerID</th>\n",
       "      <th>Gender</th>\n",
       "      <th>Age</th>\n",
       "      <th>Annual Income (k$)</th>\n",
       "      <th>Spending Score (1-100)</th>\n",
       "    </tr>\n",
       "  </thead>\n",
       "  <tbody>\n",
       "    <tr>\n",
       "      <th>0</th>\n",
       "      <td>1</td>\n",
       "      <td>Male</td>\n",
       "      <td>19</td>\n",
       "      <td>15</td>\n",
       "      <td>30</td>\n",
       "    </tr>\n",
       "    <tr>\n",
       "      <th>1</th>\n",
       "      <td>2</td>\n",
       "      <td>Male</td>\n",
       "      <td>21</td>\n",
       "      <td>15</td>\n",
       "      <td>67</td>\n",
       "    </tr>\n",
       "    <tr>\n",
       "      <th>2</th>\n",
       "      <td>3</td>\n",
       "      <td>Female</td>\n",
       "      <td>20</td>\n",
       "      <td>16</td>\n",
       "      <td>4</td>\n",
       "    </tr>\n",
       "    <tr>\n",
       "      <th>3</th>\n",
       "      <td>4</td>\n",
       "      <td>Female</td>\n",
       "      <td>23</td>\n",
       "      <td>16</td>\n",
       "      <td>64</td>\n",
       "    </tr>\n",
       "    <tr>\n",
       "      <th>4</th>\n",
       "      <td>5</td>\n",
       "      <td>Female</td>\n",
       "      <td>31</td>\n",
       "      <td>17</td>\n",
       "      <td>31</td>\n",
       "    </tr>\n",
       "  </tbody>\n",
       "</table>\n",
       "</div>"
      ],
      "text/plain": [
       "   CustomerID  Gender  Age  Annual Income (k$)  Spending Score (1-100)\n",
       "0           1    Male   19                  15                      30\n",
       "1           2    Male   21                  15                      67\n",
       "2           3  Female   20                  16                       4\n",
       "3           4  Female   23                  16                      64\n",
       "4           5  Female   31                  17                      31"
      ]
     },
     "execution_count": 29,
     "metadata": {},
     "output_type": "execute_result"
    }
   ],
   "source": [
    "df.head()"
   ]
  },
  {
   "cell_type": "code",
   "execution_count": 30,
   "id": "38e511d1",
   "metadata": {},
   "outputs": [
    {
     "name": "stdout",
     "output_type": "stream",
     "text": [
      "<class 'pandas.core.frame.DataFrame'>\n",
      "RangeIndex: 200 entries, 0 to 199\n",
      "Data columns (total 5 columns):\n",
      " #   Column                  Non-Null Count  Dtype \n",
      "---  ------                  --------------  ----- \n",
      " 0   CustomerID              200 non-null    int64 \n",
      " 1   Gender                  200 non-null    object\n",
      " 2   Age                     200 non-null    int64 \n",
      " 3   Annual Income (k$)      200 non-null    int64 \n",
      " 4   Spending Score (1-100)  200 non-null    int64 \n",
      "dtypes: int64(4), object(1)\n",
      "memory usage: 7.9+ KB\n"
     ]
    }
   ],
   "source": [
    "df.info()"
   ]
  },
  {
   "cell_type": "markdown",
   "id": "c18d370c",
   "metadata": {},
   "source": [
    "## 8) Scaling the data"
   ]
  },
  {
   "cell_type": "code",
   "execution_count": 31,
   "id": "28c5c6c7",
   "metadata": {},
   "outputs": [],
   "source": [
    "from sklearn.preprocessing import scale\n",
    "le=LabelEncoder()"
   ]
  },
  {
   "cell_type": "code",
   "execution_count": 32,
   "id": "4fcbb8c1",
   "metadata": {},
   "outputs": [],
   "source": [
    "df.Gender=le.fit_transform(df.Gender)"
   ]
  },
  {
   "cell_type": "code",
   "execution_count": 33,
   "id": "f31ccc6f",
   "metadata": {},
   "outputs": [
    {
     "data": {
      "text/html": [
       "<div>\n",
       "<style scoped>\n",
       "    .dataframe tbody tr th:only-of-type {\n",
       "        vertical-align: middle;\n",
       "    }\n",
       "\n",
       "    .dataframe tbody tr th {\n",
       "        vertical-align: top;\n",
       "    }\n",
       "\n",
       "    .dataframe thead th {\n",
       "        text-align: right;\n",
       "    }\n",
       "</style>\n",
       "<table border=\"1\" class=\"dataframe\">\n",
       "  <thead>\n",
       "    <tr style=\"text-align: right;\">\n",
       "      <th></th>\n",
       "      <th>CustomerID</th>\n",
       "      <th>Gender</th>\n",
       "      <th>Age</th>\n",
       "      <th>Annual Income (k$)</th>\n",
       "      <th>Spending Score (1-100)</th>\n",
       "    </tr>\n",
       "  </thead>\n",
       "  <tbody>\n",
       "    <tr>\n",
       "      <th>0</th>\n",
       "      <td>1</td>\n",
       "      <td>1</td>\n",
       "      <td>19</td>\n",
       "      <td>15</td>\n",
       "      <td>30</td>\n",
       "    </tr>\n",
       "    <tr>\n",
       "      <th>1</th>\n",
       "      <td>2</td>\n",
       "      <td>1</td>\n",
       "      <td>21</td>\n",
       "      <td>15</td>\n",
       "      <td>67</td>\n",
       "    </tr>\n",
       "    <tr>\n",
       "      <th>2</th>\n",
       "      <td>3</td>\n",
       "      <td>0</td>\n",
       "      <td>20</td>\n",
       "      <td>16</td>\n",
       "      <td>4</td>\n",
       "    </tr>\n",
       "    <tr>\n",
       "      <th>3</th>\n",
       "      <td>4</td>\n",
       "      <td>0</td>\n",
       "      <td>23</td>\n",
       "      <td>16</td>\n",
       "      <td>64</td>\n",
       "    </tr>\n",
       "    <tr>\n",
       "      <th>4</th>\n",
       "      <td>5</td>\n",
       "      <td>0</td>\n",
       "      <td>31</td>\n",
       "      <td>17</td>\n",
       "      <td>31</td>\n",
       "    </tr>\n",
       "  </tbody>\n",
       "</table>\n",
       "</div>"
      ],
      "text/plain": [
       "   CustomerID  Gender  Age  Annual Income (k$)  Spending Score (1-100)\n",
       "0           1       1   19                  15                      30\n",
       "1           2       1   21                  15                      67\n",
       "2           3       0   20                  16                       4\n",
       "3           4       0   23                  16                      64\n",
       "4           5       0   31                  17                      31"
      ]
     },
     "execution_count": 33,
     "metadata": {},
     "output_type": "execute_result"
    }
   ],
   "source": [
    "df.head()"
   ]
  },
  {
   "cell_type": "code",
   "execution_count": 34,
   "id": "94510402",
   "metadata": {},
   "outputs": [
    {
     "data": {
      "text/plain": [
       "array([[-1.7234121 ,  1.12815215, -1.42456879, -1.73899919, -0.52396837],\n",
       "       [-1.70609137,  1.12815215, -1.28103541, -1.73899919,  1.18337022],\n",
       "       [-1.68877065, -0.88640526, -1.3528021 , -1.70082976, -1.72371982],\n",
       "       [-1.67144992, -0.88640526, -1.13750203, -1.70082976,  1.04493737],\n",
       "       [-1.6541292 , -0.88640526, -0.56336851, -1.66266033, -0.47782409],\n",
       "       [-1.63680847, -0.88640526, -1.20926872, -1.66266033,  0.99879308],\n",
       "       [-1.61948775, -0.88640526, -0.27630176, -1.62449091, -1.72371982],\n",
       "       [-1.60216702, -0.88640526, -1.13750203, -1.62449091,  1.73710166],\n",
       "       [-1.5848463 ,  1.12815215,  1.80493225, -1.58632148, -1.86215268],\n",
       "       [-1.56752558, -0.88640526, -0.6351352 , -1.58632148,  0.81421593],\n",
       "       [-1.55020485,  1.12815215,  2.02023231, -1.58632148, -1.35456553],\n",
       "       [-1.53288413, -0.88640526, -0.27630176, -1.58632148,  1.92167881],\n",
       "       [-1.5155634 , -0.88640526,  1.37433211, -1.54815205, -1.30842124],\n",
       "       [-1.49824268, -0.88640526, -1.06573534, -1.54815205,  1.04493737],\n",
       "       [-1.48092195,  1.12815215, -0.13276838, -1.54815205, -1.40070981],\n",
       "       [-1.46360123,  1.12815215, -1.20926872, -1.54815205,  1.13722594],\n",
       "       [-1.4462805 , -0.88640526, -0.27630176, -1.50998262, -0.61625694],\n",
       "       [-1.42895978,  1.12815215, -1.3528021 , -1.50998262,  0.62963879],\n",
       "       [-1.41163905,  1.12815215,  0.94373197, -1.43364376, -0.80083409],\n",
       "       [-1.39431833, -0.88640526, -0.27630176, -1.43364376,  1.87553452],\n",
       "       [-1.3769976 ,  1.12815215, -0.27630176, -1.39547433, -0.61625694],\n",
       "       [-1.35967688,  1.12815215, -0.99396865, -1.39547433,  0.86036022],\n",
       "       [-1.34235616, -0.88640526,  0.51313183, -1.3573049 , -1.7698641 ],\n",
       "       [-1.32503543,  1.12815215, -0.56336851, -1.3573049 ,  0.86036022],\n",
       "       [-1.30771471, -0.88640526,  1.08726535, -1.24279661, -1.35456553],\n",
       "       [-1.29039398,  1.12815215, -0.70690189, -1.24279661,  1.22951451],\n",
       "       [-1.27307326, -0.88640526,  0.44136514, -1.24279661, -0.70854552],\n",
       "       [-1.25575253,  1.12815215, -0.27630176, -1.24279661,  0.49120593],\n",
       "       [-1.23843181, -0.88640526,  0.08253169, -1.20462718, -0.7546898 ],\n",
       "       [-1.22111108, -0.88640526, -1.13750203, -1.20462718,  1.41409166],\n",
       "       [-1.20379036,  1.12815215,  1.51786549, -1.16645776, -1.81600839],\n",
       "       [-1.18646963, -0.88640526, -1.28103541, -1.16645776,  0.86036022],\n",
       "       [-1.16914891,  1.12815215,  1.01549866, -1.05194947, -1.81600839],\n",
       "       [-1.15182818,  1.12815215, -1.49633548, -1.05194947,  1.64481309],\n",
       "       [-1.13450746, -0.88640526,  0.7284319 , -1.05194947, -1.35456553],\n",
       "       [-1.11718674, -0.88640526, -1.28103541, -1.05194947,  1.18337022],\n",
       "       [-1.09986601, -0.88640526,  0.22606507, -1.01378004, -1.21613267],\n",
       "       [-1.08254529, -0.88640526, -0.6351352 , -1.01378004,  0.86036022],\n",
       "       [-1.06522456, -0.88640526, -0.20453507, -0.89927175, -0.93926695],\n",
       "       [-1.04790384, -0.88640526, -1.3528021 , -0.89927175,  0.95264879],\n",
       "       [-1.03058311, -0.88640526,  1.87669894, -0.86110232, -0.61625694],\n",
       "       [-1.01326239,  1.12815215, -1.06573534, -0.86110232,  1.64481309],\n",
       "       [-0.99594166,  1.12815215,  0.65666521, -0.82293289, -0.57011266],\n",
       "       [-0.97862094, -0.88640526, -0.56336851, -0.82293289,  0.49120593],\n",
       "       [-0.96130021, -0.88640526,  0.7284319 , -0.82293289, -0.84697838],\n",
       "       [-0.94397949, -0.88640526, -1.06573534, -0.82293289,  0.5834945 ],\n",
       "       [-0.92665877, -0.88640526,  0.80019859, -0.78476346,  0.21434021],\n",
       "       [-0.90933804, -0.88640526, -0.85043527, -0.78476346, -0.15481408],\n",
       "       [-0.89201732, -0.88640526, -0.70690189, -0.78476346, -0.38553551],\n",
       "       [-0.87469659, -0.88640526, -0.56336851, -0.78476346, -0.38553551],\n",
       "       [-0.85737587, -0.88640526,  0.7284319 , -0.70842461,  0.07590735],\n",
       "       [-0.84005514,  1.12815215, -0.41983513, -0.70842461,  0.44506164],\n",
       "       [-0.82273442, -0.88640526, -0.56336851, -0.67025518,  0.16819592],\n",
       "       [-0.80541369,  1.12815215,  1.4460988 , -0.67025518,  0.44506164],\n",
       "       [-0.78809297, -0.88640526,  0.80019859, -0.67025518, -0.24710265],\n",
       "       [-0.77077224,  1.12815215,  0.58489852, -0.67025518, -0.4316798 ],\n",
       "       [-0.75345152, -0.88640526,  0.87196528, -0.63208575, -0.01638122],\n",
       "       [-0.73613079,  1.12815215,  2.16376569, -0.63208575, -0.20095837],\n",
       "       [-0.71881007, -0.88640526, -0.85043527, -0.55574689,  0.02976306],\n",
       "       [-0.70148935,  1.12815215,  1.01549866, -0.55574689, -0.20095837],\n",
       "       [-0.68416862,  1.12815215,  2.23553238, -0.55574689,  0.2604845 ],\n",
       "       [-0.6668479 ,  1.12815215, -1.42456879, -0.55574689,  0.21434021],\n",
       "       [-0.64952717, -0.88640526,  2.02023231, -0.51757746,  0.07590735],\n",
       "       [-0.63220645, -0.88640526,  1.08726535, -0.51757746,  0.39891736],\n",
       "       [-0.61488572,  1.12815215,  1.73316556, -0.47940803,  0.02976306],\n",
       "       [-0.597565  ,  1.12815215, -1.49633548, -0.47940803,  0.39891736],\n",
       "       [-0.58024427, -0.88640526,  0.29783176, -0.47940803, -0.01638122],\n",
       "       [-0.56292355, -0.88640526,  2.091999  , -0.47940803, -0.10866979],\n",
       "       [-0.54560282,  1.12815215, -1.42456879, -0.47940803,  0.39891736],\n",
       "       [-0.5282821 , -0.88640526, -0.49160182, -0.47940803, -0.15481408],\n",
       "       [-0.51096138,  1.12815215,  2.23553238, -0.4412386 ,  0.21434021],\n",
       "       [-0.49364065, -0.88640526,  0.58489852, -0.4412386 , -0.38553551],\n",
       "       [-0.47631993, -0.88640526,  1.51786549, -0.40306917, -0.06252551],\n",
       "       [-0.4589992 , -0.88640526,  1.51786549, -0.40306917,  0.2604845 ],\n",
       "       [-0.44167848,  1.12815215,  1.4460988 , -0.25039146, -0.15481408],\n",
       "       [-0.42435775,  1.12815215, -0.92220196, -0.25039146,  0.16819592],\n",
       "       [-0.40703703, -0.88640526,  0.44136514, -0.25039146,  0.12205164],\n",
       "       [-0.3897163 ,  1.12815215,  0.08253169, -0.25039146, -0.10866979],\n",
       "       [-0.37239558, -0.88640526, -1.13750203, -0.25039146,  0.07590735],\n",
       "       [-0.35507485, -0.88640526,  0.7284319 , -0.25039146, -0.38553551],\n",
       "       [-0.33775413,  1.12815215,  1.30256542, -0.25039146,  0.02976306],\n",
       "       [-0.3204334 ,  1.12815215, -0.06100169, -0.25039146,  0.21434021],\n",
       "       [-0.30311268,  1.12815215,  2.02023231, -0.25039146, -0.4316798 ],\n",
       "       [-0.28579196, -0.88640526,  0.51313183, -0.25039146, -0.29324694],\n",
       "       [-0.26847123, -0.88640526, -1.28103541, -0.25039146,  0.30662878],\n",
       "       [-0.25115051,  1.12815215,  0.65666521, -0.25039146, -0.20095837],\n",
       "       [-0.23382978, -0.88640526,  1.15903204, -0.13588317,  0.35277307],\n",
       "       [-0.21650906, -0.88640526, -1.20926872, -0.13588317,  0.21434021],\n",
       "       [-0.19918833, -0.88640526, -0.34806844, -0.09771374,  0.44506164],\n",
       "       [-0.18186761, -0.88640526,  0.80019859, -0.09771374, -0.20095837],\n",
       "       [-0.16454688, -0.88640526,  2.091999  , -0.05954431,  0.21434021],\n",
       "       [-0.14722616,  1.12815215, -1.49633548, -0.05954431, -0.4316798 ],\n",
       "       [-0.12990543,  1.12815215,  0.65666521, -0.02137488, -0.06252551],\n",
       "       [-0.11258471, -0.88640526,  0.08253169, -0.02137488, -0.47782409],\n",
       "       [-0.09526399, -0.88640526, -0.49160182, -0.02137488, -0.38553551],\n",
       "       [-0.07794326,  1.12815215, -1.06573534, -0.02137488,  0.07590735],\n",
       "       [-0.06062254, -0.88640526,  0.58489852, -0.02137488, -0.15481408],\n",
       "       [-0.04330181, -0.88640526, -0.85043527, -0.02137488, -0.01638122],\n",
       "       [-0.02598109,  1.12815215,  0.65666521,  0.01679455, -0.38553551],\n",
       "       [-0.00866036,  1.12815215, -1.3528021 ,  0.01679455, -0.06252551],\n",
       "       [ 0.00866036, -0.88640526, -1.13750203,  0.05496398, -0.4316798 ],\n",
       "       [ 0.02598109, -0.88640526,  0.7284319 ,  0.05496398, -0.10866979],\n",
       "       [ 0.04330181,  1.12815215,  2.02023231,  0.05496398,  0.39891736],\n",
       "       [ 0.06062254,  1.12815215, -0.92220196,  0.05496398,  0.21434021],\n",
       "       [ 0.07794326,  1.12815215,  0.7284319 ,  0.05496398,  0.2604845 ],\n",
       "       [ 0.09526399, -0.88640526, -1.28103541,  0.05496398, -0.38553551],\n",
       "       [ 0.11258471, -0.88640526,  1.94846562,  0.09313341, -0.01638122],\n",
       "       [ 0.12990543,  1.12815215,  1.08726535,  0.09313341, -0.20095837],\n",
       "       [ 0.14722616,  1.12815215,  2.091999  ,  0.09313341, -0.33939123],\n",
       "       [ 0.16454688,  1.12815215,  1.94846562,  0.09313341, -0.10866979],\n",
       "       [ 0.18186761,  1.12815215,  1.87669894,  0.09313341,  0.07590735],\n",
       "       [ 0.19918833, -0.88640526, -1.42456879,  0.09313341,  0.16819592],\n",
       "       [ 0.21650906, -0.88640526, -0.06100169,  0.13130284, -0.38553551],\n",
       "       [ 0.23382978,  1.12815215, -1.42456879,  0.13130284, -0.20095837],\n",
       "       [ 0.25115051, -0.88640526, -1.49633548,  0.16947227, -0.10866979],\n",
       "       [ 0.26847123, -0.88640526, -1.42456879,  0.16947227, -0.01638122],\n",
       "       [ 0.28579196, -0.88640526,  1.73316556,  0.16947227, -0.33939123],\n",
       "       [ 0.30311268, -0.88640526,  0.7284319 ,  0.16947227,  0.39891736],\n",
       "       [ 0.3204334 , -0.88640526,  0.87196528,  0.24581112, -0.33939123],\n",
       "       [ 0.33775413, -0.88640526,  0.80019859,  0.24581112,  0.30662878],\n",
       "       [ 0.35507485,  1.12815215, -0.85043527,  0.24581112,  0.2604845 ],\n",
       "       [ 0.37239558, -0.88640526, -0.06100169,  0.24581112, -0.47782409],\n",
       "       [ 0.3897163 , -0.88640526,  0.08253169,  0.32214998,  0.35277307],\n",
       "       [ 0.40703703,  1.12815215,  0.010765  ,  0.32214998,  1.5986688 ],\n",
       "       [ 0.42435775, -0.88640526, -1.13750203,  0.36031941, -0.80083409],\n",
       "       [ 0.44167848, -0.88640526, -0.56336851,  0.36031941,  1.04493737],\n",
       "       [ 0.4589992 ,  1.12815215,  0.29783176,  0.39848884, -0.61625694],\n",
       "       [ 0.47631993,  1.12815215,  0.08253169,  0.39848884,  1.78324595],\n",
       "       [ 0.49364065,  1.12815215,  1.4460988 ,  0.39848884, -1.49299839],\n",
       "       [ 0.51096138,  1.12815215, -0.06100169,  0.39848884,  0.95264879],\n",
       "       [ 0.5282821 ,  1.12815215,  0.58489852,  0.39848884, -1.58528696],\n",
       "       [ 0.54560282,  1.12815215,  0.010765  ,  0.39848884,  0.95264879],\n",
       "       [ 0.56292355, -0.88640526, -0.99396865,  0.43665827, -0.66240123],\n",
       "       [ 0.58024427, -0.88640526, -0.56336851,  0.43665827,  0.76807165],\n",
       "       [ 0.597565  ,  1.12815215, -1.3528021 ,  0.4748277 , -1.7698641 ],\n",
       "       [ 0.61488572, -0.88640526, -0.70690189,  0.4748277 ,  1.46023594],\n",
       "       [ 0.63220645, -0.88640526,  0.36959845,  0.4748277 , -1.67757553],\n",
       "       [ 0.64952717,  1.12815215, -0.49160182,  0.4748277 ,  0.86036022],\n",
       "       [ 0.6668479 ,  1.12815215, -1.42456879,  0.51299713, -1.53914267],\n",
       "       [ 0.68416862, -0.88640526, -0.27630176,  0.51299713,  0.81421593],\n",
       "       [ 0.70148935, -0.88640526,  1.30256542,  0.55116656, -1.7698641 ],\n",
       "       [ 0.71881007,  1.12815215, -0.49160182,  0.55116656,  1.69095738],\n",
       "       [ 0.73613079, -0.88640526, -0.77866858,  0.58933599, -0.47782409],\n",
       "       [ 0.75345152, -0.88640526, -0.49160182,  0.58933599,  1.41409166],\n",
       "       [ 0.77077224,  1.12815215, -0.99396865,  0.62750542, -1.4468541 ],\n",
       "       [ 0.78809297,  1.12815215, -0.77866858,  0.62750542,  1.82939023],\n",
       "       [ 0.80541369,  1.12815215,  0.65666521,  0.62750542, -0.57011266],\n",
       "       [ 0.82273442, -0.88640526, -0.49160182,  0.62750542,  0.90650451],\n",
       "       [ 0.84005514, -0.88640526, -0.34806844,  0.66567484, -1.07769981],\n",
       "       [ 0.85737587,  1.12815215, -0.34806844,  0.66567484,  1.55252452],\n",
       "       [ 0.87469659,  1.12815215,  0.29783176,  0.66567484, -1.21613267],\n",
       "       [ 0.89201732,  1.12815215,  0.010765  ,  0.66567484,  1.46023594],\n",
       "       [ 0.90933804, -0.88640526,  0.36959845,  0.66567484, -1.1238441 ],\n",
       "       [ 0.92665877, -0.88640526, -0.06100169,  0.66567484,  0.99879308],\n",
       "       [ 0.94397949, -0.88640526,  0.58489852,  0.66567484, -1.26227695],\n",
       "       [ 0.96130021, -0.88640526, -0.85043527,  0.66567484,  1.50638023],\n",
       "       [ 0.97862094,  1.12815215, -0.13276838,  0.66567484, -1.90829696],\n",
       "       [ 0.99594166, -0.88640526, -0.6351352 ,  0.66567484,  1.09108165],\n",
       "       [ 1.01326239,  1.12815215, -0.34806844,  0.66567484, -1.90829696],\n",
       "       [ 1.03058311, -0.88640526, -0.6351352 ,  0.66567484,  0.86036022],\n",
       "       [ 1.04790384, -0.88640526,  1.23079873,  0.70384427, -0.61625694],\n",
       "       [ 1.06522456, -0.88640526, -0.70690189,  0.70384427,  1.2756588 ],\n",
       "       [ 1.08254529,  1.12815215, -1.42456879,  0.78018313, -1.7698641 ],\n",
       "       [ 1.09986601, -0.88640526, -0.56336851,  0.78018313,  1.69095738],\n",
       "       [ 1.11718674,  1.12815215,  0.80019859,  0.93286085, -0.93926695],\n",
       "       [ 1.13450746, -0.88640526, -0.20453507,  0.93286085,  0.95264879],\n",
       "       [ 1.15182818,  1.12815215,  0.22606507,  0.97103028, -1.1238441 ],\n",
       "       [ 1.16914891, -0.88640526, -0.41983513,  0.97103028,  1.78324595],\n",
       "       [ 1.18646963, -0.88640526, -0.20453507,  1.00919971, -0.89312266],\n",
       "       [ 1.20379036,  1.12815215, -0.49160182,  1.00919971,  0.53735022],\n",
       "       [ 1.22111108,  1.12815215,  0.08253169,  1.00919971, -1.40070981],\n",
       "       [ 1.23843181,  1.12815215, -0.77866858,  1.00919971,  0.95264879],\n",
       "       [ 1.25575253,  1.12815215, -0.20453507,  1.00919971, -1.53914267],\n",
       "       [ 1.27307326,  1.12815215, -0.20453507,  1.00919971,  1.64481309],\n",
       "       [ 1.29039398, -0.88640526,  0.94373197,  1.04736914, -1.40070981],\n",
       "       [ 1.30771471, -0.88640526, -0.6351352 ,  1.04736914,  1.36794737],\n",
       "       [ 1.32503543,  1.12815215,  1.37433211,  1.04736914, -1.30842124],\n",
       "       [ 1.34235616,  1.12815215, -0.85043527,  1.04736914,  0.72192736],\n",
       "       [ 1.35967688,  1.12815215,  1.4460988 ,  1.23821628, -1.35456553],\n",
       "       [ 1.3769976 ,  1.12815215, -0.27630176,  1.23821628,  1.55252452],\n",
       "       [ 1.39431833, -0.88640526, -0.13276838,  1.390894  , -0.70854552],\n",
       "       [ 1.41163905, -0.88640526, -0.49160182,  1.390894  ,  1.36794737],\n",
       "       [ 1.42895978,  1.12815215,  0.51313183,  1.42906343, -1.30842124],\n",
       "       [ 1.4462805 , -0.88640526, -0.70690189,  1.42906343,  1.46023594],\n",
       "       [ 1.46360123, -0.88640526,  0.15429838,  1.46723286, -0.52396837],\n",
       "       [ 1.48092195,  1.12815215, -0.6351352 ,  1.46723286,  1.82939023],\n",
       "       [ 1.49824268, -0.88640526,  1.08726535,  1.54357172, -0.98541124],\n",
       "       [ 1.5155634 ,  1.12815215, -0.77866858,  1.54357172,  0.67578307],\n",
       "       [ 1.53288413, -0.88640526,  0.15429838,  1.61991057, -1.21613267],\n",
       "       [ 1.55020485, -0.88640526, -0.20453507,  1.61991057,  1.32180308],\n",
       "       [ 1.56752558, -0.88640526, -0.34806844,  1.61991057, -1.03155552],\n",
       "       [ 1.5848463 , -0.88640526, -0.49160182,  1.61991057,  0.72192736],\n",
       "       [ 1.60216702,  1.12815215, -0.41983513,  2.00160487, -1.63143125],\n",
       "       [ 1.61948775, -0.88640526, -0.06100169,  2.00160487,  1.5986688 ],\n",
       "       [ 1.63680847, -0.88640526,  0.58489852,  2.26879087, -1.26227695],\n",
       "       [ 1.6541292 , -0.88640526, -0.27630176,  2.26879087,  1.13722594],\n",
       "       [ 1.67144992, -0.88640526,  0.44136514,  2.49780745, -0.84697838],\n",
       "       [ 1.68877065,  1.12815215, -0.49160182,  2.49780745,  0.90650451],\n",
       "       [ 1.70609137,  1.12815215, -0.49160182,  2.91767117, -1.16998838],\n",
       "       [ 1.7234121 ,  1.12815215, -0.6351352 ,  2.91767117,  1.2756588 ]])"
      ]
     },
     "execution_count": 34,
     "metadata": {},
     "output_type": "execute_result"
    }
   ],
   "source": [
    "x=df\n",
    "x=scale(x)\n",
    "x"
   ]
  },
  {
   "cell_type": "markdown",
   "id": "337a082f",
   "metadata": {},
   "source": [
    "## 9) Perform clustering algorithm"
   ]
  },
  {
   "cell_type": "code",
   "execution_count": 35,
   "id": "d5dc146b",
   "metadata": {},
   "outputs": [],
   "source": [
    "from sklearn import cluster\n",
    "km_model=cluster.KMeans(n_clusters=3,init='k-means++',random_state=0)"
   ]
  },
  {
   "cell_type": "code",
   "execution_count": 36,
   "id": "032cf3ed",
   "metadata": {},
   "outputs": [
    {
     "data": {
      "text/plain": [
       "KMeans(n_clusters=3, random_state=0)"
      ]
     },
     "execution_count": 36,
     "metadata": {},
     "output_type": "execute_result"
    }
   ],
   "source": [
    "km_model.fit(df)"
   ]
  },
  {
   "cell_type": "code",
   "execution_count": 37,
   "id": "becf2aef",
   "metadata": {},
   "outputs": [
    {
     "data": {
      "text/plain": [
       "array([0, 0, 0, 0, 0, 0, 0, 0, 0, 0, 0, 0, 0, 0, 0, 0, 0, 0, 0, 0, 0, 0,\n",
       "       0, 0, 0, 0, 0, 0, 0, 0, 0, 0, 0, 0, 0, 0, 0, 0, 0, 0, 0, 0, 0, 0,\n",
       "       0, 0, 0, 0, 0, 0, 0, 0, 0, 0, 0, 0, 0, 0, 0, 0, 0, 0, 2, 2, 2, 2,\n",
       "       2, 2, 2, 2, 2, 2, 2, 2, 2, 2, 2, 2, 2, 2, 2, 2, 2, 2, 2, 2, 2, 2,\n",
       "       2, 2, 2, 2, 2, 2, 2, 2, 2, 2, 2, 2, 2, 2, 2, 2, 2, 2, 2, 2, 2, 2,\n",
       "       2, 2, 2, 2, 2, 2, 2, 2, 2, 2, 2, 2, 2, 2, 2, 2, 2, 2, 2, 2, 2, 2,\n",
       "       1, 1, 1, 1, 1, 1, 1, 1, 1, 1, 1, 1, 1, 1, 1, 1, 1, 1, 1, 1, 1, 1,\n",
       "       1, 1, 1, 1, 1, 1, 1, 1, 1, 1, 1, 1, 1, 1, 1, 1, 1, 1, 1, 1, 1, 1,\n",
       "       1, 1, 1, 1, 1, 1, 1, 1, 1, 1, 1, 1, 1, 1, 1, 1, 1, 1, 1, 1, 1, 1,\n",
       "       1, 1])"
      ]
     },
     "execution_count": 37,
     "metadata": {},
     "output_type": "execute_result"
    }
   ],
   "source": [
    "ykmeans =km_model.predict(df)\n",
    "ykmeans"
   ]
  },
  {
   "cell_type": "code",
   "execution_count": 38,
   "id": "0cb9c79a",
   "metadata": {},
   "outputs": [
    {
     "name": "stderr",
     "output_type": "stream",
     "text": [
      "C:\\Users\\Admin\\anaconda3\\lib\\site-packages\\sklearn\\base.py:450: UserWarning: X does not have valid feature names, but KMeans was fitted with feature names\n",
      "  warnings.warn(\n"
     ]
    },
    {
     "data": {
      "text/plain": [
       "array([0])"
      ]
     },
     "execution_count": 38,
     "metadata": {},
     "output_type": "execute_result"
    }
   ],
   "source": [
    "km_model.predict([[15,17,19,2,2]])"
   ]
  },
  {
   "cell_type": "markdown",
   "id": "075ac6d6",
   "metadata": {},
   "source": [
    "## 10) Add clustering data with primary data"
   ]
  },
  {
   "cell_type": "code",
   "execution_count": 39,
   "id": "783450e1",
   "metadata": {},
   "outputs": [],
   "source": [
    "df['kclus'] = pd.Series(ykmeans)"
   ]
  },
  {
   "cell_type": "code",
   "execution_count": 40,
   "id": "1dc9b364",
   "metadata": {},
   "outputs": [
    {
     "data": {
      "text/html": [
       "<div>\n",
       "<style scoped>\n",
       "    .dataframe tbody tr th:only-of-type {\n",
       "        vertical-align: middle;\n",
       "    }\n",
       "\n",
       "    .dataframe tbody tr th {\n",
       "        vertical-align: top;\n",
       "    }\n",
       "\n",
       "    .dataframe thead th {\n",
       "        text-align: right;\n",
       "    }\n",
       "</style>\n",
       "<table border=\"1\" class=\"dataframe\">\n",
       "  <thead>\n",
       "    <tr style=\"text-align: right;\">\n",
       "      <th></th>\n",
       "      <th>CustomerID</th>\n",
       "      <th>Gender</th>\n",
       "      <th>Age</th>\n",
       "      <th>Annual Income (k$)</th>\n",
       "      <th>Spending Score (1-100)</th>\n",
       "      <th>kclus</th>\n",
       "    </tr>\n",
       "  </thead>\n",
       "  <tbody>\n",
       "    <tr>\n",
       "      <th>0</th>\n",
       "      <td>1</td>\n",
       "      <td>1</td>\n",
       "      <td>19</td>\n",
       "      <td>15</td>\n",
       "      <td>30</td>\n",
       "      <td>0</td>\n",
       "    </tr>\n",
       "    <tr>\n",
       "      <th>1</th>\n",
       "      <td>2</td>\n",
       "      <td>1</td>\n",
       "      <td>21</td>\n",
       "      <td>15</td>\n",
       "      <td>67</td>\n",
       "      <td>0</td>\n",
       "    </tr>\n",
       "    <tr>\n",
       "      <th>2</th>\n",
       "      <td>3</td>\n",
       "      <td>0</td>\n",
       "      <td>20</td>\n",
       "      <td>16</td>\n",
       "      <td>4</td>\n",
       "      <td>0</td>\n",
       "    </tr>\n",
       "    <tr>\n",
       "      <th>3</th>\n",
       "      <td>4</td>\n",
       "      <td>0</td>\n",
       "      <td>23</td>\n",
       "      <td>16</td>\n",
       "      <td>64</td>\n",
       "      <td>0</td>\n",
       "    </tr>\n",
       "    <tr>\n",
       "      <th>4</th>\n",
       "      <td>5</td>\n",
       "      <td>0</td>\n",
       "      <td>31</td>\n",
       "      <td>17</td>\n",
       "      <td>31</td>\n",
       "      <td>0</td>\n",
       "    </tr>\n",
       "  </tbody>\n",
       "</table>\n",
       "</div>"
      ],
      "text/plain": [
       "   CustomerID  Gender  Age  Annual Income (k$)  Spending Score (1-100)  kclus\n",
       "0           1       1   19                  15                      30      0\n",
       "1           2       1   21                  15                      67      0\n",
       "2           3       0   20                  16                       4      0\n",
       "3           4       0   23                  16                      64      0\n",
       "4           5       0   31                  17                      31      0"
      ]
     },
     "execution_count": 40,
     "metadata": {},
     "output_type": "execute_result"
    }
   ],
   "source": [
    "df.head()"
   ]
  },
  {
   "cell_type": "markdown",
   "id": "8602727d",
   "metadata": {},
   "source": [
    "## 11)split data int dependent and independent variables"
   ]
  },
  {
   "cell_type": "code",
   "execution_count": 41,
   "id": "cad65556",
   "metadata": {},
   "outputs": [
    {
     "data": {
      "text/html": [
       "<div>\n",
       "<style scoped>\n",
       "    .dataframe tbody tr th:only-of-type {\n",
       "        vertical-align: middle;\n",
       "    }\n",
       "\n",
       "    .dataframe tbody tr th {\n",
       "        vertical-align: top;\n",
       "    }\n",
       "\n",
       "    .dataframe thead th {\n",
       "        text-align: right;\n",
       "    }\n",
       "</style>\n",
       "<table border=\"1\" class=\"dataframe\">\n",
       "  <thead>\n",
       "    <tr style=\"text-align: right;\">\n",
       "      <th></th>\n",
       "      <th>CustomerID</th>\n",
       "      <th>Gender</th>\n",
       "      <th>Age</th>\n",
       "      <th>Annual Income (k$)</th>\n",
       "      <th>Spending Score (1-100)</th>\n",
       "    </tr>\n",
       "  </thead>\n",
       "  <tbody>\n",
       "    <tr>\n",
       "      <th>0</th>\n",
       "      <td>1</td>\n",
       "      <td>1</td>\n",
       "      <td>19</td>\n",
       "      <td>15</td>\n",
       "      <td>30</td>\n",
       "    </tr>\n",
       "    <tr>\n",
       "      <th>1</th>\n",
       "      <td>2</td>\n",
       "      <td>1</td>\n",
       "      <td>21</td>\n",
       "      <td>15</td>\n",
       "      <td>67</td>\n",
       "    </tr>\n",
       "    <tr>\n",
       "      <th>2</th>\n",
       "      <td>3</td>\n",
       "      <td>0</td>\n",
       "      <td>20</td>\n",
       "      <td>16</td>\n",
       "      <td>4</td>\n",
       "    </tr>\n",
       "    <tr>\n",
       "      <th>3</th>\n",
       "      <td>4</td>\n",
       "      <td>0</td>\n",
       "      <td>23</td>\n",
       "      <td>16</td>\n",
       "      <td>64</td>\n",
       "    </tr>\n",
       "    <tr>\n",
       "      <th>4</th>\n",
       "      <td>5</td>\n",
       "      <td>0</td>\n",
       "      <td>31</td>\n",
       "      <td>17</td>\n",
       "      <td>31</td>\n",
       "    </tr>\n",
       "    <tr>\n",
       "      <th>...</th>\n",
       "      <td>...</td>\n",
       "      <td>...</td>\n",
       "      <td>...</td>\n",
       "      <td>...</td>\n",
       "      <td>...</td>\n",
       "    </tr>\n",
       "    <tr>\n",
       "      <th>195</th>\n",
       "      <td>196</td>\n",
       "      <td>0</td>\n",
       "      <td>35</td>\n",
       "      <td>120</td>\n",
       "      <td>66</td>\n",
       "    </tr>\n",
       "    <tr>\n",
       "      <th>196</th>\n",
       "      <td>197</td>\n",
       "      <td>0</td>\n",
       "      <td>45</td>\n",
       "      <td>126</td>\n",
       "      <td>23</td>\n",
       "    </tr>\n",
       "    <tr>\n",
       "      <th>197</th>\n",
       "      <td>198</td>\n",
       "      <td>1</td>\n",
       "      <td>32</td>\n",
       "      <td>126</td>\n",
       "      <td>61</td>\n",
       "    </tr>\n",
       "    <tr>\n",
       "      <th>198</th>\n",
       "      <td>199</td>\n",
       "      <td>1</td>\n",
       "      <td>32</td>\n",
       "      <td>137</td>\n",
       "      <td>16</td>\n",
       "    </tr>\n",
       "    <tr>\n",
       "      <th>199</th>\n",
       "      <td>200</td>\n",
       "      <td>1</td>\n",
       "      <td>30</td>\n",
       "      <td>137</td>\n",
       "      <td>69</td>\n",
       "    </tr>\n",
       "  </tbody>\n",
       "</table>\n",
       "<p>200 rows × 5 columns</p>\n",
       "</div>"
      ],
      "text/plain": [
       "     CustomerID  Gender  Age  Annual Income (k$)  Spending Score (1-100)\n",
       "0             1       1   19                  15                      30\n",
       "1             2       1   21                  15                      67\n",
       "2             3       0   20                  16                       4\n",
       "3             4       0   23                  16                      64\n",
       "4             5       0   31                  17                      31\n",
       "..          ...     ...  ...                 ...                     ...\n",
       "195         196       0   35                 120                      66\n",
       "196         197       0   45                 126                      23\n",
       "197         198       1   32                 126                      61\n",
       "198         199       1   32                 137                      16\n",
       "199         200       1   30                 137                      69\n",
       "\n",
       "[200 rows x 5 columns]"
      ]
     },
     "execution_count": 41,
     "metadata": {},
     "output_type": "execute_result"
    }
   ],
   "source": [
    "X= df.iloc[:,:-1]\n",
    "X"
   ]
  },
  {
   "cell_type": "code",
   "execution_count": 42,
   "id": "f0bfaf3e",
   "metadata": {},
   "outputs": [
    {
     "data": {
      "text/plain": [
       "0      0\n",
       "1      0\n",
       "2      0\n",
       "3      0\n",
       "4      0\n",
       "      ..\n",
       "195    1\n",
       "196    1\n",
       "197    1\n",
       "198    1\n",
       "199    1\n",
       "Name: kclus, Length: 200, dtype: int32"
      ]
     },
     "execution_count": 42,
     "metadata": {},
     "output_type": "execute_result"
    }
   ],
   "source": [
    "y=df.kclus\n",
    "y"
   ]
  },
  {
   "cell_type": "markdown",
   "id": "7fcb1bdd",
   "metadata": {},
   "source": [
    "## 12) split data into train and test"
   ]
  },
  {
   "cell_type": "code",
   "execution_count": 43,
   "id": "0274492d",
   "metadata": {},
   "outputs": [],
   "source": [
    "from sklearn.model_selection import train_test_split\n",
    "x_train,x_test,y_train,y_test = train_test_split(X,y,test_size=0.2,random_state = 1)"
   ]
  },
  {
   "cell_type": "code",
   "execution_count": 44,
   "id": "305d5b4c",
   "metadata": {},
   "outputs": [
    {
     "data": {
      "text/plain": [
       "(160, 5)"
      ]
     },
     "execution_count": 44,
     "metadata": {},
     "output_type": "execute_result"
    }
   ],
   "source": [
    "x_train.shape"
   ]
  },
  {
   "cell_type": "code",
   "execution_count": 45,
   "id": "3576c3bd",
   "metadata": {},
   "outputs": [
    {
     "data": {
      "text/plain": [
       "(40, 5)"
      ]
     },
     "execution_count": 45,
     "metadata": {},
     "output_type": "execute_result"
    }
   ],
   "source": [
    "x_test.shape"
   ]
  },
  {
   "cell_type": "code",
   "execution_count": 46,
   "id": "8784f509",
   "metadata": {},
   "outputs": [
    {
     "data": {
      "text/plain": [
       "(160,)"
      ]
     },
     "execution_count": 46,
     "metadata": {},
     "output_type": "execute_result"
    }
   ],
   "source": [
    "y_train.shape"
   ]
  },
  {
   "cell_type": "code",
   "execution_count": 47,
   "id": "d00f0ec4",
   "metadata": {},
   "outputs": [
    {
     "data": {
      "text/plain": [
       "(40,)"
      ]
     },
     "execution_count": 47,
     "metadata": {},
     "output_type": "execute_result"
    }
   ],
   "source": [
    "y_test.shape"
   ]
  },
  {
   "cell_type": "markdown",
   "id": "15d6e616",
   "metadata": {},
   "source": [
    "## 13) Build the model"
   ]
  },
  {
   "cell_type": "code",
   "execution_count": 48,
   "id": "b543e8c8",
   "metadata": {},
   "outputs": [],
   "source": [
    "from sklearn.linear_model import LogisticRegression"
   ]
  },
  {
   "cell_type": "code",
   "execution_count": 49,
   "id": "9e8cb414",
   "metadata": {},
   "outputs": [],
   "source": [
    "model= LogisticRegression()"
   ]
  },
  {
   "cell_type": "markdown",
   "id": "e8b48b95",
   "metadata": {},
   "source": [
    "## 14) Train the model"
   ]
  },
  {
   "cell_type": "code",
   "execution_count": 50,
   "id": "5f9d16b3",
   "metadata": {},
   "outputs": [
    {
     "name": "stderr",
     "output_type": "stream",
     "text": [
      "C:\\Users\\Admin\\anaconda3\\lib\\site-packages\\sklearn\\linear_model\\_logistic.py:814: ConvergenceWarning: lbfgs failed to converge (status=1):\n",
      "STOP: TOTAL NO. of ITERATIONS REACHED LIMIT.\n",
      "\n",
      "Increase the number of iterations (max_iter) or scale the data as shown in:\n",
      "    https://scikit-learn.org/stable/modules/preprocessing.html\n",
      "Please also refer to the documentation for alternative solver options:\n",
      "    https://scikit-learn.org/stable/modules/linear_model.html#logistic-regression\n",
      "  n_iter_i = _check_optimize_result(\n"
     ]
    },
    {
     "data": {
      "text/plain": [
       "LogisticRegression()"
      ]
     },
     "execution_count": 50,
     "metadata": {},
     "output_type": "execute_result"
    }
   ],
   "source": [
    "model.fit(x_train,y_train)"
   ]
  },
  {
   "cell_type": "markdown",
   "id": "fe6559d2",
   "metadata": {},
   "source": [
    "## 15) Test the model"
   ]
  },
  {
   "cell_type": "code",
   "execution_count": 51,
   "id": "48729f69",
   "metadata": {},
   "outputs": [],
   "source": [
    "y_pred=model.predict(x_test)"
   ]
  },
  {
   "cell_type": "code",
   "execution_count": 52,
   "id": "b47b3017",
   "metadata": {},
   "outputs": [
    {
     "data": {
      "text/plain": [
       "58     0\n",
       "40     0\n",
       "34     0\n",
       "102    2\n",
       "184    1\n",
       "198    1\n",
       "95     2\n",
       "4      0\n",
       "29     0\n",
       "168    1\n",
       "171    1\n",
       "18     0\n",
       "11     0\n",
       "89     2\n",
       "110    2\n",
       "118    2\n",
       "159    1\n",
       "35     0\n",
       "136    1\n",
       "59     0\n",
       "51     0\n",
       "16     0\n",
       "44     0\n",
       "94     2\n",
       "31     0\n",
       "162    1\n",
       "38     0\n",
       "28     0\n",
       "193    1\n",
       "27     0\n",
       "47     0\n",
       "165    1\n",
       "194    1\n",
       "177    1\n",
       "176    1\n",
       "97     2\n",
       "174    1\n",
       "73     2\n",
       "69     2\n",
       "172    1\n",
       "Name: kclus, dtype: int32"
      ]
     },
     "execution_count": 52,
     "metadata": {},
     "output_type": "execute_result"
    }
   ],
   "source": [
    "y_test"
   ]
  },
  {
   "cell_type": "markdown",
   "id": "a6624942",
   "metadata": {},
   "source": [
    "## 16) Measure the performance using evaluation metric"
   ]
  },
  {
   "cell_type": "code",
   "execution_count": 53,
   "id": "d24d844c",
   "metadata": {},
   "outputs": [],
   "source": [
    "from sklearn.metrics import accuracy_score,confusion_matrix,classification_report"
   ]
  },
  {
   "cell_type": "code",
   "execution_count": 54,
   "id": "847b7a21",
   "metadata": {},
   "outputs": [
    {
     "data": {
      "text/plain": [
       "1.0"
      ]
     },
     "execution_count": 54,
     "metadata": {},
     "output_type": "execute_result"
    }
   ],
   "source": [
    "model.score(x_test,y_test)"
   ]
  },
  {
   "cell_type": "code",
   "execution_count": 55,
   "id": "0359c9c5",
   "metadata": {},
   "outputs": [
    {
     "data": {
      "text/html": [
       "<div>\n",
       "<style scoped>\n",
       "    .dataframe tbody tr th:only-of-type {\n",
       "        vertical-align: middle;\n",
       "    }\n",
       "\n",
       "    .dataframe tbody tr th {\n",
       "        vertical-align: top;\n",
       "    }\n",
       "\n",
       "    .dataframe thead th {\n",
       "        text-align: right;\n",
       "    }\n",
       "</style>\n",
       "<table border=\"1\" class=\"dataframe\">\n",
       "  <thead>\n",
       "    <tr style=\"text-align: right;\">\n",
       "      <th>col_0</th>\n",
       "      <th>0</th>\n",
       "      <th>1</th>\n",
       "      <th>2</th>\n",
       "    </tr>\n",
       "    <tr>\n",
       "      <th>kclus</th>\n",
       "      <th></th>\n",
       "      <th></th>\n",
       "      <th></th>\n",
       "    </tr>\n",
       "  </thead>\n",
       "  <tbody>\n",
       "    <tr>\n",
       "      <th>0</th>\n",
       "      <td>17</td>\n",
       "      <td>0</td>\n",
       "      <td>0</td>\n",
       "    </tr>\n",
       "    <tr>\n",
       "      <th>1</th>\n",
       "      <td>0</td>\n",
       "      <td>14</td>\n",
       "      <td>0</td>\n",
       "    </tr>\n",
       "    <tr>\n",
       "      <th>2</th>\n",
       "      <td>0</td>\n",
       "      <td>0</td>\n",
       "      <td>9</td>\n",
       "    </tr>\n",
       "  </tbody>\n",
       "</table>\n",
       "</div>"
      ],
      "text/plain": [
       "col_0   0   1  2\n",
       "kclus           \n",
       "0      17   0  0\n",
       "1       0  14  0\n",
       "2       0   0  9"
      ]
     },
     "execution_count": 55,
     "metadata": {},
     "output_type": "execute_result"
    }
   ],
   "source": [
    "pd.crosstab(y_test,y_pred)"
   ]
  },
  {
   "cell_type": "code",
   "execution_count": 56,
   "id": "8297cf06",
   "metadata": {},
   "outputs": [],
   "source": [
    "from sklearn import metrics"
   ]
  },
  {
   "cell_type": "code",
   "execution_count": 57,
   "id": "4e0003ee",
   "metadata": {},
   "outputs": [
    {
     "data": {
      "text/plain": [
       "1.0"
      ]
     },
     "execution_count": 57,
     "metadata": {},
     "output_type": "execute_result"
    }
   ],
   "source": [
    "metrics.r2_score(y_test,y_pred)"
   ]
  },
  {
   "cell_type": "code",
   "execution_count": 58,
   "id": "f2158ea8",
   "metadata": {},
   "outputs": [
    {
     "data": {
      "text/plain": [
       "array([[17,  0,  0],\n",
       "       [ 0, 14,  0],\n",
       "       [ 0,  0,  9]], dtype=int64)"
      ]
     },
     "execution_count": 58,
     "metadata": {},
     "output_type": "execute_result"
    }
   ],
   "source": [
    "confusion_matrix(y_test,y_pred) "
   ]
  },
  {
   "cell_type": "code",
   "execution_count": 59,
   "id": "920aeffc",
   "metadata": {},
   "outputs": [
    {
     "name": "stdout",
     "output_type": "stream",
     "text": [
      "              precision    recall  f1-score   support\n",
      "\n",
      "           0       1.00      1.00      1.00        17\n",
      "           1       1.00      1.00      1.00        14\n",
      "           2       1.00      1.00      1.00         9\n",
      "\n",
      "    accuracy                           1.00        40\n",
      "   macro avg       1.00      1.00      1.00        40\n",
      "weighted avg       1.00      1.00      1.00        40\n",
      "\n"
     ]
    }
   ],
   "source": [
    "print(classification_report(y_test,y_pred))"
   ]
  }
 ],
 "metadata": {
  "kernelspec": {
   "display_name": "Python 3 (ipykernel)",
   "language": "python",
   "name": "python3"
  },
  "language_info": {
   "codemirror_mode": {
    "name": "ipython",
    "version": 3
   },
   "file_extension": ".py",
   "mimetype": "text/x-python",
   "name": "python",
   "nbconvert_exporter": "python",
   "pygments_lexer": "ipython3",
   "version": "3.9.12"
  }
 },
 "nbformat": 4,
 "nbformat_minor": 5
}
